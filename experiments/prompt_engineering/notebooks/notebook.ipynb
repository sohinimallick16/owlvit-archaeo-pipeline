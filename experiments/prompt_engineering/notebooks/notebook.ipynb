{
 "cells": [
  {
   "cell_type": "markdown",
   "id": "5cefcb50",
   "metadata": {},
   "source": [
    "# Prompt Engineering Experiment\n",
    "\n",
    "Evaluate how refined textual prompts affect OWL-ViT detection quality.\n",
    "\n",
    "---"
   ]
  },
  {
   "cell_type": "code",
   "execution_count": null,
   "id": "50489c4a",
   "metadata": {},
   "outputs": [],
   "source": [
    "## 1. Setup & Imports\n",
    "\n",
    "import sys, os\n",
    "from pathlib import Path\n",
    "\n",
    "# Add project root\n",
    "project_root = Path.cwd().resolve().parents[2]\n",
    "sys.path.insert(0, str(project_root))\n",
    "\n",
    "import torch\n",
    "\n",
    "from tools.owlvit_utils    import OwlViTPipeline\n",
    "from tools.prompt_utils    import PromptUtils"
   ]
  },
  {
   "cell_type": "code",
   "execution_count": null,
   "id": "885e469b",
   "metadata": {},
   "outputs": [],
   "source": [
    "# Experiment configuration\n",
    "experiment_name      = 'prompt_engineering'\n",
    "image_filename       = '<input_image_filename>'  # e.g., 'site_image.png'\n",
    "prompts_file         = '<prompts_file>'          # e.g., 'prompts.txt'\n",
    "resize_size          = (<width>, <height>)       # e.g., (1024, 1024)\n",
    "thresholds           = [<threshold_1>, <threshold_2>, <threshold_3>, <threshold_4>]  # e.g., [0.001, 0.002, ...]\n"
   ]
  },
  {
   "cell_type": "code",
   "execution_count": null,
   "id": "da66b9a7",
   "metadata": {},
   "outputs": [],
   "source": [
    "pipeline = OwlViTPipeline(\n",
    "    experiment_name=experiment_name,\n",
    "    resize_size=resize_size\n",
    ")\n",
    "pipeline.load_image(image_filename)\n",
    "\n",
    "\n",
    "pipeline.load_prompts(prompts_file)\n",
    "base_prompts = pipeline.prompts\n",
    "\n",
    "# Templates for engineering\n",
    "templates = [\n",
    "    \"{prompt}. \",\n",
    "    \"A high-resolution satellite image showing {prompt}. \",\n",
    "    \"Close-up aerial view of {prompt}. \",\n",
    "    \"Satellite photo capturing {prompt} from above. \",\n",
    "    \"A {prompt} in a satellite image. \",\n",
    "    \"a satellite image of {prompt}.\" ,\n",
    "    \"A bird's eye view of {prompt}. \"\n",
    "]\n"
   ]
  },
  {
   "cell_type": "code",
   "execution_count": null,
   "id": "f6b2420a",
   "metadata": {},
   "outputs": [],
   "source": [
    "\n",
    "# Expand via templates\n",
    "expanded_prompts = PromptUtils.expand_prompts(base_prompts, templates)\n",
    "\n",
    "# Optional: sample a subset for faster runs\n",
    "prompts = PromptUtils.sample_prompts(expanded_prompts, k=10)\n",
    "\n",
    "# Replace pipeline's prompts\n",
    "pipeline.prompts = prompts\n",
    "print(\"Using prompts:\\n\", \"\\n\".join(pipeline.prompts))\n"
   ]
  },
  {
   "cell_type": "code",
   "execution_count": null,
   "id": "1d163da9",
   "metadata": {},
   "outputs": [],
   "source": [
    "inputs = pipeline.processor(\n",
    "    text=pipeline.prompts,\n",
    "    images=pipeline.image_resized,\n",
    "    return_tensors=\"pt\"\n",
    ")\n",
    "with torch.no_grad():\n",
    "    outputs = pipeline.model(**inputs)\n",
    "# Single-shot inference per threshold\n",
    "for thresh in thresholds:\n",
    "    \n",
    "    results = pipeline.processor.post_process_object_detection(\n",
    "    outputs,\n",
    "    target_sizes=torch.tensor([[pipeline.image_full.height,\n",
    "                                pipeline.image_full.width]]),\n",
    "    threshold=thresh\n",
    "    )[0]\n",
    "\n",
    "    # run and save visual, metrics, geojson via pipeline helper\n",
    "    png    = pipeline.save_visualisation(results, threshold=thresh)\n",
    "    metrics= pipeline.save_metrics    (results, threshold=thresh)\n",
    "    geo    = pipeline.run_and_save_geojson(thresh)\n",
    "    print(f\"[t={thresh:.4f}] saved →\", png, metrics, geo)\n"
   ]
  },
  {
   "cell_type": "code",
   "execution_count": null,
   "id": "36dbb839",
   "metadata": {},
   "outputs": [],
   "source": [
    "pipeline.display_metrics()\n"
   ]
  }
 ],
 "metadata": {
  "kernelspec": {
   "display_name": "owlvit-archaeo",
   "language": "python",
   "name": "python3"
  },
  "language_info": {
   "codemirror_mode": {
    "name": "ipython",
    "version": 3
   },
   "file_extension": ".py",
   "mimetype": "text/x-python",
   "name": "python",
   "nbconvert_exporter": "python",
   "pygments_lexer": "ipython3",
   "version": "3.10.18"
  }
 },
 "nbformat": 4,
 "nbformat_minor": 5
}
